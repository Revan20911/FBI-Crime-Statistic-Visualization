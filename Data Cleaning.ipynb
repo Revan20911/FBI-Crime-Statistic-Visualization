{
 "cells": [
  {
   "cell_type": "code",
   "execution_count": 37,
   "metadata": {},
   "outputs": [
    {
     "data": {
      "text/html": [
       "<div>\n",
       "<style scoped>\n",
       "    .dataframe tbody tr th:only-of-type {\n",
       "        vertical-align: middle;\n",
       "    }\n",
       "\n",
       "    .dataframe tbody tr th {\n",
       "        vertical-align: top;\n",
       "    }\n",
       "\n",
       "    .dataframe thead th {\n",
       "        text-align: right;\n",
       "    }\n",
       "</style>\n",
       "<table border=\"1\" class=\"dataframe\">\n",
       "  <thead>\n",
       "    <tr style=\"text-align: right;\">\n",
       "      <th></th>\n",
       "      <th>Race</th>\n",
       "      <th>Offenses</th>\n",
       "      <th>Male</th>\n",
       "      <th>Female</th>\n",
       "      <th>Unknown</th>\n",
       "    </tr>\n",
       "  </thead>\n",
       "  <tbody>\n",
       "    <tr>\n",
       "      <th>0</th>\n",
       "      <td>Total</td>\n",
       "      <td>15129.0</td>\n",
       "      <td>11862.0</td>\n",
       "      <td>3222.0</td>\n",
       "      <td>45.0</td>\n",
       "    </tr>\n",
       "    <tr>\n",
       "      <th>1</th>\n",
       "      <td>White</td>\n",
       "      <td>6579.0</td>\n",
       "      <td>4616.0</td>\n",
       "      <td>1958.0</td>\n",
       "      <td>5.0</td>\n",
       "    </tr>\n",
       "    <tr>\n",
       "      <th>2</th>\n",
       "      <td>Black</td>\n",
       "      <td>7851.0</td>\n",
       "      <td>6789.0</td>\n",
       "      <td>1060.0</td>\n",
       "      <td>2.0</td>\n",
       "    </tr>\n",
       "    <tr>\n",
       "      <th>3</th>\n",
       "      <td>Other race</td>\n",
       "      <td>456.0</td>\n",
       "      <td>315.0</td>\n",
       "      <td>141.0</td>\n",
       "      <td>0.0</td>\n",
       "    </tr>\n",
       "    <tr>\n",
       "      <th>4</th>\n",
       "      <td>Unknown race</td>\n",
       "      <td>243.0</td>\n",
       "      <td>142.0</td>\n",
       "      <td>63.0</td>\n",
       "      <td>38.0</td>\n",
       "    </tr>\n",
       "  </tbody>\n",
       "</table>\n",
       "</div>"
      ],
      "text/plain": [
       "           Race  Offenses     Male  Female  Unknown\n",
       "0  Total         15129.0   11862.0  3222.0  45.0   \n",
       "1  White         6579.0    4616.0   1958.0  5.0    \n",
       "2  Black         7851.0    6789.0   1060.0  2.0    \n",
       "3  Other race    456.0     315.0    141.0   0.0    \n",
       "4  Unknown race  243.0     142.0    63.0    38.0   "
      ]
     },
     "execution_count": 37,
     "metadata": {},
     "output_type": "execute_result"
    }
   ],
   "source": [
    "import pandas as pd\n",
    "import numpy as np\n",
    "import matplotlib.pyplot as plt\n",
    "pd.set_option('display.max_columns', None)  \n",
    "pd.set_option('display.expand_frame_repr', False)\n",
    "pd.set_option('max_colwidth', -1)\n",
    "##Importing Pandas and numpy libraries to help analyze data\n",
    "# converting file path into string readable by python by using 'r'\n",
    "\n",
    "df = pd.read_csv(r\"C:\\Users\\revan\\Desktop\\Book1.csv\")\n",
    "df.head()\n"
   ]
  },
  {
   "cell_type": "code",
   "execution_count": 39,
   "metadata": {},
   "outputs": [
    {
     "name": "stdout",
     "output_type": "stream",
     "text": [
      "[0    15129.0\n",
      "1    6579.0 \n",
      "2    7851.0 \n",
      "3    456.0  \n",
      "4    243.0  \n",
      "5    2354.0 \n",
      "6    9761.0 \n",
      "7    2085.0 \n",
      "Name: Offenses, dtype: float64, 0    11862.0\n",
      "1    4616.0 \n",
      "2    6789.0 \n",
      "3    315.0  \n",
      "4    142.0  \n",
      "5    1899.0 \n",
      "6    7692.0 \n",
      "7    1550.0 \n",
      "Name: Male, dtype: float64, 0    3222.0\n",
      "1    1958.0\n",
      "2    1060.0\n",
      "3    141.0 \n",
      "4    63.0  \n",
      "5    454.0 \n",
      "6    2065.0\n",
      "7    510.0 \n",
      "Name: Female, dtype: float64, 0    45.0\n",
      "1    5.0 \n",
      "2    2.0 \n",
      "3    0.0 \n",
      "4    38.0\n",
      "5    1.0 \n",
      "6    4.0 \n",
      "7    25.0\n",
      "Name: Unknown, dtype: float64]\n"
     ]
    }
   ],
   "source": [
    "rate=[df['Offenses'],df['Male'],df['Female'],df['Unknown']]\n",
    "print(rate)\n"
   ]
  },
  {
   "cell_type": "code",
   "execution_count": null,
   "metadata": {},
   "outputs": [],
   "source": []
  }
 ],
 "metadata": {
  "kernelspec": {
   "display_name": "Python 3",
   "language": "python",
   "name": "python3"
  },
  "language_info": {
   "codemirror_mode": {
    "name": "ipython",
    "version": 3
   },
   "file_extension": ".py",
   "mimetype": "text/x-python",
   "name": "python",
   "nbconvert_exporter": "python",
   "pygments_lexer": "ipython3",
   "version": "3.7.1"
  }
 },
 "nbformat": 4,
 "nbformat_minor": 2
}
